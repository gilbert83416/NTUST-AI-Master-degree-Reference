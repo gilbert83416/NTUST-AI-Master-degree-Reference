{
  "nbformat": 4,
  "nbformat_minor": 0,
  "metadata": {
    "colab": {
      "name": "CNN.ipynb",
      "provenance": [],
      "authorship_tag": "ABX9TyNcMPwwPSDQgUDsJMOcik5Z",
      "include_colab_link": true
    },
    "kernelspec": {
      "display_name": "Python 3",
      "name": "python3"
    },
    "language_info": {
      "name": "python"
    }
  },
  "cells": [
    {
      "cell_type": "markdown",
      "metadata": {
        "id": "view-in-github",
        "colab_type": "text"
      },
      "source": [
        "<a href=\"https://colab.research.google.com/github/gilbert83416/NTUST-AI-Master-degree-Reference/blob/main/CNN.ipynb\" target=\"_parent\"><img src=\"https://colab.research.google.com/assets/colab-badge.svg\" alt=\"Open In Colab\"/></a>"
      ]
    },
    {
      "cell_type": "code",
      "metadata": {
        "colab": {
          "base_uri": "https://localhost:8080/"
        },
        "id": "s_3RyQV0zkCA",
        "outputId": "24d7c159-1c3a-480a-9d20-2fb50657578f"
      },
      "source": [
        "from tensorflow.keras.datasets.cifar10 import load_data\n",
        "(x_train, y_train), (x_test, y_test) = load_data()"
      ],
      "execution_count": null,
      "outputs": [
        {
          "output_type": "stream",
          "text": [
            "Downloading data from https://www.cs.toronto.edu/~kriz/cifar-10-python.tar.gz\n",
            "170500096/170498071 [==============================] - 2s 0us/step\n"
          ],
          "name": "stdout"
        }
      ]
    },
    {
      "cell_type": "code",
      "metadata": {
        "colab": {
          "base_uri": "https://localhost:8080/"
        },
        "id": "SFAFAF0GzpO4",
        "outputId": "7b81f89f-6f9b-4a46-c9c2-b426d0a74270"
      },
      "source": [
        "# mnist: 60000, 28, 28 -> 60000, 28, 28, 1\n",
        "print(x_train.shape)\n",
        "print(y_train.shape)\n",
        "print(x_test.shape)\n",
        "print(y_test.shape)\n",
        "print(x_train[0])"
      ],
      "execution_count": null,
      "outputs": [
        {
          "output_type": "stream",
          "text": [
            "(50000, 32, 32, 3)\n",
            "(50000, 1)\n",
            "(10000, 32, 32, 3)\n",
            "(10000, 1)\n",
            "[[[ 59  62  63]\n",
            "  [ 43  46  45]\n",
            "  [ 50  48  43]\n",
            "  ...\n",
            "  [158 132 108]\n",
            "  [152 125 102]\n",
            "  [148 124 103]]\n",
            "\n",
            " [[ 16  20  20]\n",
            "  [  0   0   0]\n",
            "  [ 18   8   0]\n",
            "  ...\n",
            "  [123  88  55]\n",
            "  [119  83  50]\n",
            "  [122  87  57]]\n",
            "\n",
            " [[ 25  24  21]\n",
            "  [ 16   7   0]\n",
            "  [ 49  27   8]\n",
            "  ...\n",
            "  [118  84  50]\n",
            "  [120  84  50]\n",
            "  [109  73  42]]\n",
            "\n",
            " ...\n",
            "\n",
            " [[208 170  96]\n",
            "  [201 153  34]\n",
            "  [198 161  26]\n",
            "  ...\n",
            "  [160 133  70]\n",
            "  [ 56  31   7]\n",
            "  [ 53  34  20]]\n",
            "\n",
            " [[180 139  96]\n",
            "  [173 123  42]\n",
            "  [186 144  30]\n",
            "  ...\n",
            "  [184 148  94]\n",
            "  [ 97  62  34]\n",
            "  [ 83  53  34]]\n",
            "\n",
            " [[177 144 116]\n",
            "  [168 129  94]\n",
            "  [179 142  87]\n",
            "  ...\n",
            "  [216 184 140]\n",
            "  [151 118  84]\n",
            "  [123  92  72]]]\n"
          ],
          "name": "stdout"
        }
      ]
    },
    {
      "cell_type": "code",
      "metadata": {
        "id": "Bi1c1s_izr63"
      },
      "source": [
        "trans = [       \n",
        "    \"airplane\",\t\t\t\t\t\t\t\t\t\t\n",
        "    \"automobile\",\t\t\t\t\t\t\t\t\t\t\n",
        "    \"bird\",\t\t\t\t\t\t\t\t\t\t\n",
        "    \"cat\",\t\t\t\t\t\t\t\t\t\t\n",
        "    \"deer\",\t\t\t\t\t\t\t\t\t\t\n",
        "    \"dog\",\t\t\t\t\t\t\t\t\t\t\n",
        "    \"frog\",\t\t\t\t\t\t\t\t\t\t\n",
        "    \"horse\",\t\t\t\t\t\t\t\t\t\t\n",
        "    \"ship\",\t\t\t\t\t\t\t\t\t\t\n",
        "    \"truck\"\n",
        "]"
      ],
      "execution_count": null,
      "outputs": []
    },
    {
      "cell_type": "code",
      "metadata": {
        "colab": {
          "base_uri": "https://localhost:8080/",
          "height": 300
        },
        "id": "l-43u7RQzvdI",
        "outputId": "0868c693-c296-4344-ec1e-e978d4d3f3a4"
      },
      "source": [
        "import random\n",
        "import matplotlib.pyplot as plt\n",
        "idx = random.randint(0, 49999)\n",
        "print(trans[y_train[idx][0]])\n",
        "plt.imshow(x_train[idx])"
      ],
      "execution_count": null,
      "outputs": [
        {
          "output_type": "stream",
          "text": [
            "bird\n"
          ],
          "name": "stdout"
        },
        {
          "output_type": "execute_result",
          "data": {
            "text/plain": [
              "<matplotlib.image.AxesImage at 0x7fa9e4f0ab50>"
            ]
          },
          "metadata": {
            "tags": []
          },
          "execution_count": 14
        },
        {
          "output_type": "display_data",
          "data": {
            "image/png": "[encoded data removed]",
            "text/plain": [
              "<Figure size 432x288 with 1 Axes>"
            ]
          },
          "metadata": {
            "tags": []
          }
        }
      ]
    },
    {
      "cell_type": "code",
      "metadata": {
        "colab": {
          "base_uri": "https://localhost:8080/"
        },
        "id": "g2qrUDTHzwMC",
        "outputId": "874c16e3-bb1e-4d4c-e977-deb0b486bb5f"
      },
      "source": [
        "\n",
        "from tensorflow.keras.models import Sequential\n",
        "from tensorflow.keras.layers import Conv2D, MaxPooling2D\n",
        "from tensorflow.keras.layers import Dense, Dropout, Flatten\n",
        "layers = [\n",
        "    # 一個filter(27 ggb 9*3) * 64 + 64(bias)\n",
        "    Conv2D(64, 3, padding=\"same\", activation=\"relu\", input_shape=(32, 32, 3)),\n",
        "    MaxPooling2D(),\n",
        "    # 576(3*3*64) * 128 + 128\n",
        "    Conv2D(128, 3, padding=\"same\", activation=\"relu\"),\n",
        "    MaxPooling2D(),\n",
        "    Conv2D(256, 3, padding=\"same\", activation=\"relu\"),\n",
        "    MaxPooling2D(),\n",
        "    Conv2D(512, 3, padding=\"same\", activation=\"relu\"),\n",
        "    MaxPooling2D(),\n",
        "    Flatten(),\n",
        "    Dense(128, activation=\"relu\"),\n",
        "    Dropout(0.25),\n",
        "    Dense(10, activation=\"softmax\")\n",
        "]\n",
        "model = Sequential(layers)\n",
        "model.summary()"
      ],
      "execution_count": null,
      "outputs": [
        {
          "output_type": "stream",
          "text": [
            "Model: \"sequential\"\n",
            "_________________________________________________________________\n",
            "Layer (type)                 Output Shape              Param #   \n",
            "=================================================================\n",
            "conv2d (Conv2D)              (None, 32, 32, 64)        1792      \n",
            "_________________________________________________________________\n",
            "max_pooling2d (MaxPooling2D) (None, 16, 16, 64)        0         \n",
            "_________________________________________________________________\n",
            "conv2d_1 (Conv2D)            (None, 16, 16, 128)       73856     \n",
            "_________________________________________________________________\n",
            "max_pooling2d_1 (MaxPooling2 (None, 8, 8, 128)         0         \n",
            "_________________________________________________________________\n",
            "conv2d_2 (Conv2D)            (None, 8, 8, 256)         295168    \n",
            "_________________________________________________________________\n",
            "max_pooling2d_2 (MaxPooling2 (None, 4, 4, 256)         0         \n",
            "_________________________________________________________________\n",
            "conv2d_3 (Conv2D)            (None, 4, 4, 512)         1180160   \n",
            "_________________________________________________________________\n",
            "max_pooling2d_3 (MaxPooling2 (None, 2, 2, 512)         0         \n",
            "_________________________________________________________________\n",
            "flatten (Flatten)            (None, 2048)              0         \n",
            "_________________________________________________________________\n",
            "dense (Dense)                (None, 128)               262272    \n",
            "_________________________________________________________________\n",
            "dropout (Dropout)            (None, 128)               0         \n",
            "_________________________________________________________________\n",
            "dense_1 (Dense)              (None, 10)                1290      \n",
            "=================================================================\n",
            "Total params: 1,814,538\n",
            "Trainable params: 1,814,538\n",
            "Non-trainable params: 0\n",
            "_________________________________________________________________\n"
          ],
          "name": "stdout"
        }
      ]
    },
    {
      "cell_type": "code",
      "metadata": {
        "id": "utnKXrCwzypx"
      },
      "source": [
        "# 不需要自己做one-hot\n",
        "from tensorflow.keras.losses import SparseCategoricalCrossentropy\n",
        "model.compile(loss=SparseCategoricalCrossentropy(),\n",
        "       optimizer=\"adam\",\n",
        "       metrics=[\"accuracy\"])"
      ],
      "execution_count": null,
      "outputs": []
    },
    {
      "cell_type": "code",
      "metadata": {
        "id": "BhH_Vf5mz0Ps"
      },
      "source": [
        "\n",
        "x_train_norm = x_train / 255\n",
        "x_test_norm = x_test / 255"
      ],
      "execution_count": null,
      "outputs": []
    },
    {
      "cell_type": "code",
      "metadata": {
        "colab": {
          "background_save": true,
          "base_uri": "https://localhost:8080/"
        },
        "id": "e1jLLQ7yz2u-",
        "outputId": "67dcda40-16c4-41c7-fb8c-e93775e9a51e"
      },
      "source": [
        "from tensorflow.keras.callbacks import EarlyStopping, ModelCheckpoint\n",
        "callbacks = [\n",
        "   EarlyStopping(patience=5, restore_best_weights=True),\n",
        "   ModelCheckpoint(\"cnn.h5\", save_best_only=True)\n",
        "]\n",
        "model.fit(x_train_norm,\n",
        "     y_train,\n",
        "     batch_size=200,\n",
        "     epochs=50,\n",
        "     validation_split=0.1,\n",
        "     verbose=2,\n",
        "     callbacks=callbacks)"
      ],
      "execution_count": null,
      "outputs": [
        {
          "output_type": "stream",
          "text": [
            "Epoch 1/50\n",
            "225/225 - 514s - loss: 1.1030 - accuracy: 0.6107 - val_loss: 0.9668 - val_accuracy: 0.6638\n",
            "Epoch 2/50\n",
            "225/225 - 505s - loss: 0.8924 - accuracy: 0.6865 - val_loss: 0.8092 - val_accuracy: 0.7170\n",
            "Epoch 3/50\n",
            "225/225 - 500s - loss: 0.7624 - accuracy: 0.7333 - val_loss: 0.7252 - val_accuracy: 0.7436\n",
            "Epoch 4/50\n",
            "225/225 - 495s - loss: 0.6482 - accuracy: 0.7740 - val_loss: 0.6877 - val_accuracy: 0.7612\n",
            "Epoch 5/50\n",
            "225/225 - 497s - loss: 0.5380 - accuracy: 0.8133 - val_loss: 0.7358 - val_accuracy: 0.7496\n",
            "Epoch 6/50\n",
            "225/225 - 490s - loss: 0.4373 - accuracy: 0.8471 - val_loss: 0.6923 - val_accuracy: 0.7706\n",
            "Epoch 7/50\n",
            "225/225 - 501s - loss: 0.3507 - accuracy: 0.8775 - val_loss: 0.7075 - val_accuracy: 0.7812\n",
            "Epoch 8/50\n",
            "225/225 - 491s - loss: 0.2689 - accuracy: 0.9058 - val_loss: 0.7158 - val_accuracy: 0.7906\n",
            "Epoch 9/50\n",
            "225/225 - 490s - loss: 0.2044 - accuracy: 0.9284 - val_loss: 0.7681 - val_accuracy: 0.7814\n"
          ],
          "name": "stdout"
        },
        {
          "output_type": "execute_result",
          "data": {
            "text/plain": [
              "<tensorflow.python.keras.callbacks.History at 0x7fa9e4e88bd0>"
            ]
          },
          "metadata": {
            "tags": []
          },
          "execution_count": 0
        }
      ]
    },
    {
      "cell_type": "code",
      "metadata": {
        "id": "H7FB9dV2z5MK"
      },
      "source": [
        "model.evaluate(x_test_norm, y_test)"
      ],
      "execution_count": null,
      "outputs": []
    },
    {
      "cell_type": "code",
      "metadata": {
        "id": "RkorNp77z7eR"
      },
      "source": [
        "\n",
        "pre = model.predict_classes(x_test_norm)\n",
        "pre"
      ],
      "execution_count": null,
      "outputs": []
    },
    {
      "cell_type": "code",
      "metadata": {
        "id": "R2q41Yylz7oS"
      },
      "source": [
        "y_test_r = y_test.reshape(-1)\n",
        "y_test_r.shape"
      ],
      "execution_count": null,
      "outputs": []
    },
    {
      "cell_type": "code",
      "metadata": {
        "id": "xTCzVD_5z7x8"
      },
      "source": [
        "import pandas as pd\n",
        "from sklearn.metrics import confusion_matrix\n",
        "# sklearn: predict_proba/predict\n",
        "# tensorflow: predict/predict_classes\n",
        "mat = confusion_matrix(y_test_r, pre)\n",
        "pd.DataFrame(mat,\n",
        "       columns=[trans[i] + \"(預測)\" for i in range(10)],\n",
        "       index=[trans[i] + \"(正確)\" for i in range(10)])"
      ],
      "execution_count": null,
      "outputs": []
    },
    {
      "cell_type": "code",
      "metadata": {
        "id": "zi3i8OOW0C4_"
      },
      "source": [
        "\n",
        "import numpy as np\n",
        "idx = np.nonzero(pre != y_test_r)[0][:200]\n",
        "false_img = x_test[idx]\n",
        "false_pre = pre[idx]\n",
        "false_label = y_test_r[idx]\n",
        "plt.figure(figsize=(14, 42))\n",
        "width = 10\n",
        "height = len(idx) // width + 1\n",
        "for i in range(len(idx)):\n",
        "    plt.subplot(height, width, i+1)\n",
        "    t = \"[O]:{}\\n[P]:{}\".format(trans[false_label[i]], trans[false_pre[i]])\n",
        "    plt.title(t)\n",
        "    plt.axis(\"off\")\n",
        "    plt.imshow(false_img[i])"
      ],
      "execution_count": null,
      "outputs": []
    },
    {
      "cell_type": "code",
      "metadata": {
        "id": "CEXWMyqs0Ftf"
      },
      "source": [
        "# Pillow\n",
        "import requests\n",
        "from PIL import Image\n",
        "# RGB, RGBA, L(gray)\n",
        "url = input(\"url:\")\n",
        "headers = {\n",
        "  \"user-agent\":\"user-agent: Mozilla/5.0 (Windows NT 10.0; Win64; x64) AppleWebKit/537.36 (KHTML, like Gecko) Chrome/89.0.4389.90 Safari/537.36\"  \n",
        "}\n",
        "response = requests.get(url, headers=headers, stream=True, verify=False)\n",
        "img = Image.open(response.raw).resize((32, 32)).convert(\"RGB\")\n",
        "img_np = np.array(img)\n",
        "img_np_r = img_np.reshape(1, 32, 32, 3) / 255.0\n",
        "proba = model.predict(img_np_r)[0]\n",
        "for i in range(10):\n",
        "    print(trans[i], \"的機率:\", proba[i])\n",
        "ans = model.predict_classes(img_np_r)[0]\n",
        "print(\"答案:\", trans[ans])\n",
        "plt.imshow(img_np)"
      ],
      "execution_count": null,
      "outputs": []
    },
    {
      "cell_type": "code",
      "metadata": {
        "id": "ovScjSqE0C7O"
      },
      "source": [
        ""
      ],
      "execution_count": null,
      "outputs": []
    }
  ]
}